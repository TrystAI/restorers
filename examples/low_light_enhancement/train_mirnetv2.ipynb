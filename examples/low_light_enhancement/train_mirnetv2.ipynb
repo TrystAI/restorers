{
 "cells": [
  {
   "cell_type": "code",
   "execution_count": null,
   "metadata": {},
   "outputs": [],
   "source": [
    "!pip install -q git+https://github.com/soumik12345/mirnetv2.git@model-factory"
   ]
  },
  {
   "cell_type": "code",
   "execution_count": null,
   "metadata": {},
   "outputs": [],
   "source": [
    "import tensorflow as tf\n",
    "from absl import app, flags, g\n",
    "from ml_collections.config_flags import config_flags\n",
    "from wandb.keras import WandbMetricsLogger\n",
    "\n",
    "import wandb\n",
    "from restorers.callbacks import LowLightEvaluationCallback\n",
    "from restorers.dataloader import LOLDataLoader\n",
    "from restorers.losses import CharbonnierLoss\n",
    "from restorers.metrics import PSNRMetric, SSIMMetric\n",
    "from restorers.model import MirNetv2\n",
    "from restorers.utils import get_model_checkpoint_callback, initialize_device\n",
    "\n",
    "from low_light_config import get_config"
   ]
  },
  {
   "cell_type": "code",
   "execution_count": null,
   "metadata": {},
   "outputs": [],
   "source": [
    "wandb_project_name = 'mirnet-v2' #@param {type:\"string\"}\n",
    "wandb_run_name = 'train/low-light/mirnetv2' #@param {type:\"string\"}\n",
    "wandb_entity_name = 'ml-colabs' #@param {type:\"string\"}\n",
    "wandb_job_type = 'train' #@param {type:\"string\"}\n",
    "\n",
    "experiment_configs = get_config()\n",
    "wandb.init(\n",
    "    project=wandb_project_name,\n",
    "    name=wandb_run_name,\n",
    "    entity=wandb_entity_name,\n",
    "    job_type=wandb_job_type,\n",
    "    config=experiment_configs.to_dict(),\n",
    ")"
   ]
  },
  {
   "cell_type": "code",
   "execution_count": null,
   "metadata": {},
   "outputs": [],
   "source": [
    "tf.keras.utils.set_random_seed(experiment_configs.seed)\n",
    "strategy = initialize_device()\n",
    "batch_size = (\n",
    "    experiment_configs.data_loader_configs.local_batch_size\n",
    "    * strategy.num_replicas_in_sync\n",
    ")\n",
    "wandb.config.global_batch_size = batch_size"
   ]
  },
  {
   "cell_type": "code",
   "execution_count": null,
   "metadata": {},
   "outputs": [],
   "source": [
    "data_loader = LOLDataLoader(\n",
    "    image_size=experiment_configs.data_loader_configs.image_size,\n",
    "    bit_depth=experiment_configs.data_loader_configs.bit_depth,\n",
    "    val_split=experiment_configs.data_loader_configs.val_split,\n",
    "    visualize_on_wandb=experiment_configs.data_loader_configs.visualize_on_wandb,\n",
    "    dataset_artifact_address=experiment_configs.data_loader_configs.dataset_artifact_address,\n",
    ")\n",
    "train_dataset, val_dataset = data_loader.get_datasets(batch_size=batch_size)"
   ]
  },
  {
   "cell_type": "code",
   "execution_count": null,
   "metadata": {},
   "outputs": [],
   "source": [
    "with strategy.scope():\n",
    "    model = MirNetv2(\n",
    "        channels=experiment_configs.model_configs.channels,\n",
    "        channel_factor=experiment_configs.model_configs.channel_factor,\n",
    "        num_mrb_blocks=experiment_configs.model_configs.num_mrb_blocks,\n",
    "        add_residual_connection=experiment_configs.model_configs.add_residual_connection,\n",
    "    )\n",
    "    loss = CharbonnierLoss(\n",
    "        epsilon=experiment_configs.training_configs.charbonnier_epsilon,\n",
    "        reduction=tf.keras.losses.Reduction.SUM,\n",
    "    )\n",
    "\n",
    "    decay_steps = (\n",
    "        len(data_loader.train_low_light_images) // batch_size\n",
    "    ) * experiment_configs.training_configs.epochs\n",
    "    lr_schedule_fn = tf.keras.optimizers.schedules.CosineDecay(\n",
    "        initial_learning_rate=experiment_configs.training_configs.initial_learning_rate,\n",
    "        decay_steps=decay_steps,\n",
    "        alpha=experiment_configs.training_configs.minimum_learning_rate,\n",
    "    )\n",
    "    optimizer = tf.keras.optimizers.experimental.AdamW(\n",
    "        learning_rate=lr_schedule_fn,\n",
    "        weight_decay=experiment_configs.training_configs.weight_decay,\n",
    "        beta_1=experiment_configs.training_configs.decay_rate_1,\n",
    "        beta_2=experiment_configs.training_configs.decay_rate_2,\n",
    "    )\n",
    "\n",
    "    psnr_metric = PSNRMetric(\n",
    "        max_val=experiment_configs.training_configs.psnr_max_val\n",
    "    )\n",
    "    ssim_metric = SSIMMetric(\n",
    "        max_val=experiment_configs.training_configs.ssim_max_val\n",
    "    )\n",
    "\n",
    "    model.compile(\n",
    "        optimizer=optimizer, loss=loss, metrics=[psnr_metric, ssim_metric]\n",
    "    )"
   ]
  },
  {
   "cell_type": "code",
   "execution_count": null,
   "metadata": {},
   "outputs": [],
   "source": [
    "callbacks = [\n",
    "    get_model_checkpoint_callback(\n",
    "        filepath=\"checkpoint\", save_best_only=False, using_wandb=True\n",
    "    )\n",
    "]\n",
    "callbacks.append(WandbMetricsLogger(log_freq=\"batch\"))\n",
    "callbacks.append(\n",
    "    LowLightEvaluationCallback(\n",
    "        validation_data=val_dataset.take(1),\n",
    "        data_table_columns=[\"Input-Image\", \"Ground-Truth-Image\"],\n",
    "        pred_table_columns=[\n",
    "            \"Epoch\",\n",
    "            \"Input-Image\",\n",
    "            \"Ground-Truth-Image\",\n",
    "            \"Predicted-Image\",\n",
    "            \"Peak-Signal-To-Noise-Ratio\",\n",
    "            \"Structural-Similarity\",\n",
    "        ],\n",
    "    )\n",
    ")"
   ]
  },
  {
   "cell_type": "code",
   "execution_count": null,
   "metadata": {},
   "outputs": [],
   "source": [
    "model.fit(\n",
    "    train_dataset,\n",
    "    validation_data=val_dataset,\n",
    "    epochs=experiment_configs.training_configs.epochs,\n",
    "    callbacks=callbacks,\n",
    ")"
   ]
  },
  {
   "cell_type": "code",
   "execution_count": null,
   "metadata": {},
   "outputs": [],
   "source": [
    "wandb.finish()"
   ]
  }
 ],
 "metadata": {
  "kernelspec": {
   "display_name": "tensorflow",
   "language": "python",
   "name": "python3"
  },
  "language_info": {
   "name": "python",
   "version": "3.8.13 | packaged by conda-forge | (default, Mar 25 2022, 06:05:16) \n[Clang 12.0.1 ]"
  },
  "orig_nbformat": 4,
  "vscode": {
   "interpreter": {
    "hash": "0f1cce20b37c8a8278d8d08ed4f5973e5204c436e2e8f5127eb41227f3ecb9b3"
   }
  }
 },
 "nbformat": 4,
 "nbformat_minor": 2
}
