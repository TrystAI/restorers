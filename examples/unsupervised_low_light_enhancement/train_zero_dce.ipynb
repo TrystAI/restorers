{
 "cells": [
  {
   "cell_type": "code",
   "execution_count": null,
   "metadata": {},
   "outputs": [],
   "source": [
    "import os\n",
    "from glob import glob\n",
    "\n",
    "import tensorflow as tf\n",
    "\n",
    "import wandb\n",
    "from wandb.keras import WandbMetricsLogger\n",
    "\n",
    "from absl import app, flags, logging\n",
    "from ml_collections.config_flags import config_flags\n",
    "\n",
    "from restorers.model.zero_dce import ZeroDCE\n",
    "from restorers.utils import (\n",
    "    get_model_checkpoint_callback,\n",
    "    initialize_device\n",
    ")\n",
    "\n",
    "from low_light_config import get_config"
   ]
  },
  {
   "cell_type": "code",
   "execution_count": null,
   "metadata": {},
   "outputs": [],
   "source": [
    "wandb_project_name = 'zero-dce' #@param {type:\"string\"}\n",
    "wandb_run_name = 'train/lol' #@param {type:\"string\"}\n",
    "wandb_entity_name = 'ml-colabs' #@param {type:\"string\"}\n",
    "wandb_job_type = 'test' #@param {type:\"string\"}\n",
    "\n",
    "experiment_configs = get_config()\n",
    "wandb.init(\n",
    "    project=wandb_project_name,\n",
    "    name=wandb_run_name,\n",
    "    entity=wandb_entity_name,\n",
    "    job_type=wandb_job_type,\n",
    "    config=experiment_configs.to_dict(),\n",
    ")"
   ]
  },
  {
   "cell_type": "code",
   "execution_count": null,
   "metadata": {},
   "outputs": [],
   "source": [
    "tf.keras.utils.set_random_seed(experiment_configs.seed)\n",
    "strategy = initialize_device()\n",
    "batch_size = (\n",
    "    experiment_configs.data_loader_configs.local_batch_size\n",
    "    * strategy.num_replicas_in_sync\n",
    ")\n",
    "wandb.config.global_batch_size = batch_size"
   ]
  },
  {
   "cell_type": "code",
   "execution_count": null,
   "metadata": {},
   "outputs": [],
   "source": [
    "def load_data(image_path):\n",
    "    image = tf.io.read_file(image_path)\n",
    "    image = tf.image.decode_png(image, channels=3)\n",
    "    image = tf.image.resize(\n",
    "        images=image,\n",
    "        size=[\n",
    "            experiment_configs.data_loader_configs.image_size,\n",
    "            experiment_configs.data_loader_configs.image_size\n",
    "        ]\n",
    "    )\n",
    "    image = image / 255.0\n",
    "    return image\n",
    "\n",
    "\n",
    "def data_generator(low_light_images):\n",
    "    dataset = tf.data.Dataset.from_tensor_slices((low_light_images))\n",
    "    dataset = dataset.map(load_data, num_parallel_calls=tf.data.AUTOTUNE)\n",
    "    dataset = dataset.batch(batch_size, drop_remainder=True)\n",
    "    return dataset\n",
    "\n",
    "\n",
    "artifact = wandb.use_artifact(\n",
    "    experiment_configs.data_loader_configs.dataset_artifact_address, type='dataset'\n",
    ")\n",
    "artifact_dir = artifact.download()\n",
    "\n",
    "train_low_light_images = sorted(glob(os.path.join(artifact_dir, \"our485\", \"low\", \"*\")))\n",
    "num_train_images = int((1 - experiment_configs.data_loader_configs.val_split) * len(train_low_light_images))\n",
    "val_low_light_images = train_low_light_images[num_train_images:]\n",
    "train_low_light_images = train_low_light_images[:num_train_images]\n",
    "\n",
    "train_dataset = data_generator(train_low_light_images)\n",
    "val_dataset = data_generator(val_low_light_images)"
   ]
  },
  {
   "cell_type": "code",
   "execution_count": null,
   "metadata": {},
   "outputs": [],
   "source": [
    "with strategy.scope():\n",
    "    model = ZeroDCE(\n",
    "        num_intermediate_filters=experiment_configs.model_configs.num_intermediate_filters,\n",
    "        num_iterations=experiment_configs.model_configs.num_iterations\n",
    "    )\n",
    "    model.compile(\n",
    "        optimizer=tf.keras.optimizers.Adam(\n",
    "            learning_rate=experiment_configs.training_configs.learning_rate\n",
    "        )\n",
    "    )"
   ]
  },
  {
   "cell_type": "code",
   "execution_count": null,
   "metadata": {},
   "outputs": [],
   "source": [
    "callbacks = [\n",
    "    get_model_checkpoint_callback(\n",
    "        filepath=\"checkpoint\",\n",
    "        save_best_only=experiment_configs.training_configs.save_best_checkpoint_only,\n",
    "        using_wandb=True\n",
    "    )\n",
    "]\n",
    "callbacks.append(WandbMetricsLogger(log_freq=\"batch\"))"
   ]
  },
  {
   "cell_type": "code",
   "execution_count": null,
   "metadata": {},
   "outputs": [],
   "source": [
    "model.fit(\n",
    "    train_dataset,\n",
    "    validation_data=val_dataset,\n",
    "    epochs=experiment_configs.training_configs.epochs,\n",
    "    callbacks=callbacks,\n",
    ")"
   ]
  },
  {
   "cell_type": "code",
   "execution_count": null,
   "metadata": {},
   "outputs": [],
   "source": [
    "wandb.finish()"
   ]
  }
 ],
 "metadata": {
  "environment": {
   "kernel": "python3",
   "name": "tf2-gpu.2-10.m102",
   "type": "gcloud",
   "uri": "gcr.io/deeplearning-platform-release/tf2-gpu.2-10:m102"
  },
  "kernelspec": {
   "display_name": "Python 3 (ipykernel)",
   "language": "python",
   "name": "python3"
  },
  "language_info": {
   "codemirror_mode": {
    "name": "ipython",
    "version": 3
   },
   "file_extension": ".py",
   "mimetype": "text/x-python",
   "name": "python",
   "nbconvert_exporter": "python",
   "pygments_lexer": "ipython3",
   "version": "3.7.12"
  },
  "vscode": {
   "interpreter": {
    "hash": "9ac03a0a6051494cc606d484d27d20fce22fb7b4d169f583271e11d5ba46a56e"
   }
  }
 },
 "nbformat": 4,
 "nbformat_minor": 4
}
