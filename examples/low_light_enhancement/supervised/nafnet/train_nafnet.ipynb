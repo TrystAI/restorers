{
 "cells": [
  {
   "cell_type": "code",
   "execution_count": null,
   "metadata": {},
   "outputs": [],
   "source": [
    "import wandb\n",
    "from wandb.keras import WandbMetricsLogger\n",
    "\n",
    "from tqdm.keras import TqdmCallback\n",
    "\n",
    "import tensorflow as tf\n",
    "tf.get_logger().setLevel('ERROR')\n",
    "\n",
    "from restorers.model import NAFNet\n",
    "from restorers.dataloader import LOLDataLoader\n",
    "from restorers.losses import CharbonnierLoss, PSNRLoss\n",
    "from restorers.metrics import PSNRMetric, SSIMMetric\n",
    "from restorers.utils import get_model_checkpoint_callback"
   ]
  },
  {
   "cell_type": "code",
   "execution_count": null,
   "metadata": {},
   "outputs": [],
   "source": [
    "wandb.init(project=\"nafnet\", entity=\"ml-colabs\")\n",
    "\n",
    "data_loader = LOLDataLoader(\n",
    "    image_size=128,\n",
    "    bit_depth=8,\n",
    "    val_split=0.2,\n",
    "    visualize_on_wandb=False,\n",
    "    dataset_artifact_address=\"ml-colabs/dataset/LoL:v0\"\n",
    ")\n",
    "\n",
    "train_dataset, val_dataset = data_loader.get_datasets(batch_size=4)"
   ]
  },
  {
   "cell_type": "code",
   "execution_count": null,
   "metadata": {},
   "outputs": [],
   "source": [
    "model = NAFNet()\n",
    "\n",
    "decay_steps = (len(data_loader.train_input_images) // 4) * 100\n",
    "lr_schedule_fn = tf.keras.optimizers.schedules.CosineDecay(\n",
    "    initial_learning_rate=2e-4,\n",
    "    decay_steps=decay_steps,\n",
    "    alpha=1e-6,\n",
    ")\n",
    "optimizer = tf.keras.optimizers.experimental.AdamW(\n",
    "    learning_rate=lr_schedule_fn, weight_decay=1e-4\n",
    ")\n",
    "\n",
    "psnr_metric = PSNRMetric(max_val=1.0)\n",
    "ssim_metric = SSIMMetric(max_val=1.0)\n",
    "\n",
    "loss = CharbonnierLoss(epsilon=1e-3)\n",
    "\n",
    "model.compile(\n",
    "    optimizer=optimizer, loss=loss, metrics=[psnr_metric, ssim_metric]\n",
    ")"
   ]
  },
  {
   "cell_type": "code",
   "execution_count": null,
   "metadata": {},
   "outputs": [],
   "source": [
    "model.fit(\n",
    "    train_dataset,\n",
    "    validation_data=val_dataset,\n",
    "    epochs=100,\n",
    "    verbose=0,\n",
    "    callbacks=[\n",
    "        WandbMetricsLogger(log_freq=\"batch\"),\n",
    "        get_model_checkpoint_callback(\n",
    "            filepath=\"checkpoint\", save_best_only=False, using_wandb=True\n",
    "        ),\n",
    "        TqdmCallback()\n",
    "    ]\n",
    ")"
   ]
  },
  {
   "cell_type": "code",
   "execution_count": null,
   "metadata": {},
   "outputs": [],
   "source": [
    "wandb.finish()"
   ]
  },
  {
   "cell_type": "code",
   "execution_count": null,
   "metadata": {},
   "outputs": [],
   "source": []
  },
  {
   "cell_type": "code",
   "execution_count": null,
   "metadata": {},
   "outputs": [],
   "source": []
  }
 ],
 "metadata": {
  "environment": {
   "kernel": "python3",
   "name": "tf2-gpu.2-11.m103",
   "type": "gcloud",
   "uri": "gcr.io/deeplearning-platform-release/tf2-gpu.2-11:m103"
  },
  "kernelspec": {
   "display_name": "Python 3 (ipykernel)",
   "language": "python",
   "name": "python3"
  },
  "language_info": {
   "codemirror_mode": {
    "name": "ipython",
    "version": 3
   },
   "file_extension": ".py",
   "mimetype": "text/x-python",
   "name": "python",
   "nbconvert_exporter": "python",
   "pygments_lexer": "ipython3",
   "version": "3.7.12"
  }
 },
 "nbformat": 4,
 "nbformat_minor": 4
}
