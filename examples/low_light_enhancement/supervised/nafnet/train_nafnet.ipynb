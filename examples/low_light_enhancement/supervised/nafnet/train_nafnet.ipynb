{
 "cells": [
  {
   "cell_type": "code",
   "execution_count": null,
   "metadata": {},
   "outputs": [],
   "source": [
    "!pip install -q --upgrade pip setuptools\n",
    "!pip install -q git+https://github.com/soumik12345/mirnetv2.git"
   ]
  },
  {
   "cell_type": "code",
   "execution_count": null,
   "metadata": {},
   "outputs": [],
   "source": [
    "import wandb\n",
    "from wandb.keras import WandbMetricsLogger\n",
    "\n",
    "from tqdm.keras import TqdmCallback\n",
    "\n",
    "import tensorflow as tf\n",
    "tf.get_logger().setLevel('ERROR')\n",
    "\n",
    "from restorers.model import NAFNet\n",
    "from restorers.dataloader import LOLDataLoader\n",
    "from restorers.losses import CharbonnierLoss, PSNRLoss\n",
    "from restorers.metrics import PSNRMetric, SSIMMetric\n",
    "from restorers.utils import initialize_device\n",
    "\n",
    "from low_light_config import get_config"
   ]
  },
  {
   "cell_type": "code",
   "execution_count": null,
   "metadata": {},
   "outputs": [],
   "source": [
    "wandb_project_name = 'mirnet-v2' #@param {type:\"string\"}\n",
    "wandb_run_name = 'train/low-light/mirnetv2' #@param {type:\"string\"}\n",
    "wandb_entity_name = 'ml-colabs' #@param {type:\"string\"}\n",
    "wandb_job_type = 'test' #@param {type:\"string\"}\n",
    "\n",
    "experiment_configs = get_config()\n",
    "data_loader_configs = FLAGS.experiment_configs.data_loader_configs\n",
    "model_configs = FLAGS.experiment_configs.model_configs\n",
    "training_configs = FLAGS.experiment_configs.training_configs\n",
    "\n",
    "wandb.init(\n",
    "    project=wandb_project_name,\n",
    "    name=wandb_run_name,\n",
    "    entity=wandb_entity_name,\n",
    "    job_type=wandb_job_type,\n",
    "    config=experiment_configs.to_dict(),\n",
    ")"
   ]
  },
  {
   "cell_type": "code",
   "execution_count": null,
   "metadata": {},
   "outputs": [],
   "source": [
    "strategy = initialize_device()\n",
    "\n",
    "batch_size = data_loader_configs.local_batch_size * strategy.num_replicas_in_sync\n",
    "if using_wandb:\n",
    "    wandb.config.global_batch_size = batch_size"
   ]
  },
  {
   "cell_type": "code",
   "execution_count": null,
   "metadata": {},
   "outputs": [],
   "source": [
    "data_loader = LOLDataLoader(\n",
    "    image_size=data_loader_configs.image_size,\n",
    "    bit_depth=data_loader_configs.bit_depth,\n",
    "    val_split=data_loader_configs.val_split,\n",
    "    visualize_on_wandb=data_loader_configs.visualize_on_wandb,\n",
    "    dataset_artifact_address=data_loader_configs.dataset_artifact_address,\n",
    ")\n",
    "\n",
    "train_dataset, val_dataset = data_loader.get_datasets(batch_size=batch_size)"
   ]
  },
  {
   "cell_type": "code",
   "execution_count": null,
   "metadata": {},
   "outputs": [],
   "source": [
    "with strategy.scope():\n",
    "    model = NAFNet(\n",
    "        filters=model_configs.filters,\n",
    "        middle_block_num=model_configs.middle_block_num,\n",
    "        encoder_block_nums=model_configs.encoder_block_nums,\n",
    "        decoder_block_nums=model_configs.decoder_block_nums,\n",
    "    )\n",
    "    loss = CharbonnierLoss(\n",
    "        epsilon=training_configs.charbonnier_epsilon,\n",
    "        reduction=tf.keras.losses.Reduction.SUM,\n",
    "    )\n",
    "\n",
    "    decay_steps = (\n",
    "        len(data_loader.train_input_images) // batch_size\n",
    "    ) * training_configs.epochs\n",
    "    lr_schedule_fn = tf.keras.optimizers.schedules.CosineDecay(\n",
    "        initial_learning_rate=training_configs.initial_learning_rate,\n",
    "        decay_steps=decay_steps,\n",
    "        alpha=training_configs.minimum_learning_rate,\n",
    "    )\n",
    "    optimizer = tf.keras.optimizers.experimental.AdamW(\n",
    "        learning_rate=lr_schedule_fn,\n",
    "        weight_decay=training_configs.weight_decay,\n",
    "        beta_1=training_configs.decay_rate_1,\n",
    "        beta_2=training_configs.decay_rate_2,\n",
    "    )\n",
    "    logging.info(f\"Using AdamW optimizer.\")\n",
    "\n",
    "    psnr_metric = PSNRMetric(max_val=training_configs.psnr_max_val)\n",
    "    logging.info(\"Using Peak Signal-noise Ratio Metric.\")\n",
    "    ssim_metric = SSIMMetric(max_val=training_configs.ssim_max_val)\n",
    "    logging.info(\"Using Structural Similarity Metric.\")\n",
    "\n",
    "    model.compile(\n",
    "        optimizer=optimizer, loss=loss, metrics=[psnr_metric, ssim_metric]\n",
    "    )"
   ]
  },
  {
   "cell_type": "code",
   "execution_count": null,
   "metadata": {},
   "outputs": [],
   "source": [
    "callbacks = [\n",
    "    TqdmCallback(),\n",
    "    WandbMetricsLogger(log_freq=\"batch\"),\n",
    "    WandbModelCheckpoint(\n",
    "        filepath=\"checkpoint\",\n",
    "        monitor=\"val_loss\",\n",
    "        save_best_only=False,\n",
    "        save_weights_only=False,\n",
    "        initial_value_threshold=None,\n",
    "    )\n",
    "]"
   ]
  },
  {
   "cell_type": "code",
   "execution_count": null,
   "metadata": {},
   "outputs": [],
   "source": [
    "model.fit(\n",
    "    train_dataset,\n",
    "    validation_data=val_dataset,\n",
    "    epochs=training_configs.epochs,\n",
    "    callbacks=callbacks,\n",
    ")"
   ]
  },
  {
   "cell_type": "code",
   "execution_count": null,
   "metadata": {},
   "outputs": [],
   "source": [
    "wandb.finish()"
   ]
  }
 ],
 "metadata": {
  "environment": {
   "kernel": "python3",
   "name": "tf2-gpu.2-11.m103",
   "type": "gcloud",
   "uri": "gcr.io/deeplearning-platform-release/tf2-gpu.2-11:m103"
  },
  "kernelspec": {
   "display_name": "Python 3 (ipykernel)",
   "language": "python",
   "name": "python3"
  },
  "language_info": {
   "codemirror_mode": {
    "name": "ipython",
    "version": 3
   },
   "file_extension": ".py",
   "mimetype": "text/x-python",
   "name": "python",
   "nbconvert_exporter": "python",
   "pygments_lexer": "ipython3",
   "version": "3.8.16"
  }
 },
 "nbformat": 4,
 "nbformat_minor": 4
}
