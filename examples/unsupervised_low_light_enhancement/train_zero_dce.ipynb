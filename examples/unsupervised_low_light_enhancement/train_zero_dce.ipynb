{
 "cells": [
  {
   "cell_type": "code",
   "execution_count": null,
   "metadata": {},
   "outputs": [],
   "source": [
    "import os\n",
    "from glob import glob\n",
    "\n",
    "import tensorflow as tf\n",
    "\n",
    "import wandb\n",
    "from wandb.keras import WandbMetricsLogger\n",
    "\n",
    "from absl import app, flags, logging\n",
    "from ml_collections.config_flags import config_flags\n",
    "\n",
    "from restorers.model.zero_dce import ZeroDCE, FastZeroDce\n",
    "from restorers.dataloader import UnsupervisedLOLDataLoader\n",
    "from restorers.utils import (\n",
    "    get_model_checkpoint_callback,\n",
    "    initialize_device\n",
    ")\n",
    "\n",
    "from low_light_config import get_config"
   ]
  },
  {
   "cell_type": "code",
   "execution_count": null,
   "metadata": {},
   "outputs": [],
   "source": [
    "wandb_project_name = 'zero-dce' #@param {type:\"string\"}\n",
    "wandb_run_name = 'train/lol' #@param {type:\"string\"}\n",
    "wandb_entity_name = 'ml-colabs' #@param {type:\"string\"}\n",
    "wandb_job_type = 'test' #@param {type:\"string\"}\n",
    "\n",
    "experiment_configs = get_config()\n",
    "wandb.init(\n",
    "    project=wandb_project_name,\n",
    "    name=wandb_run_name,\n",
    "    entity=wandb_entity_name,\n",
    "    job_type=wandb_job_type,\n",
    "    config=experiment_configs.to_dict(),\n",
    ")"
   ]
  },
  {
   "cell_type": "code",
   "execution_count": null,
   "metadata": {},
   "outputs": [],
   "source": [
    "tf.keras.utils.set_random_seed(experiment_configs.seed)\n",
    "strategy = initialize_device()\n",
    "batch_size = (\n",
    "    experiment_configs.data_loader_configs.local_batch_size\n",
    "    * strategy.num_replicas_in_sync\n",
    ")\n",
    "wandb.config.global_batch_size = batch_size"
   ]
  },
  {
   "cell_type": "code",
   "execution_count": null,
   "metadata": {},
   "outputs": [],
   "source": [
    "data_loader = UnsupervisedLOLDataLoader(\n",
    "    image_size=experiment_configs.data_loader_configs.image_size,\n",
    "    bit_depth=experiment_configs.data_loader_configs.bit_depth,\n",
    "    val_split=experiment_configs.data_loader_configs.val_split,\n",
    "    visualize_on_wand=False,\n",
    "    dataset_artifact_address=experiment_configs.data_loader_configs.dataset_artifact_address,\n",
    ")\n",
    "\n",
    "tran_dataset, val_dataset = data_loader.get_datasets(batch_size=batch_size)"
   ]
  },
  {
   "cell_type": "code",
   "execution_count": null,
   "metadata": {},
   "outputs": [],
   "source": [
    "with strategy.scope():\n",
    "    model = (\n",
    "        ZeroDCE(\n",
    "            num_intermediate_filters=experiment_configs.model_configs.num_intermediate_filters,\n",
    "            num_iterations=experiment_configs.model_configs.num_iterations,\n",
    "            decoder_channel_factor=experiment_configs.model_configs.decoder_channel_factor\n",
    "        )\n",
    "        if not experiment_configs.model_configs.use_faster_variant\n",
    "        else FastZeroDce(\n",
    "            num_intermediate_filters=experiment_configs.model_configs.num_intermediate_filters,\n",
    "            num_iterations=experiment_configs.model_configs.num_iterations,\n",
    "            decoder_channel_factor=experiment_configs.model_configs.decoder_channel_factor\n",
    "        )\n",
    "    )\n",
    "    model.compile(\n",
    "        optimizer=tf.keras.optimizers.Adam(\n",
    "            learning_rate=experiment_configs.training_configs.learning_rate,\n",
    "        ),\n",
    "        weight_exposure_loss=experiment_configs.training_configs.weight_exposure_loss,\n",
    "        weight_color_constancy_loss=experiment_configs.training_configs.weight_color_constancy_loss,\n",
    "        weight_illumination_smoothness_loss=experiment_configs.training_configs.weight_illumination_smoothness_loss,\n",
    "    )"
   ]
  },
  {
   "cell_type": "code",
   "execution_count": null,
   "metadata": {},
   "outputs": [],
   "source": [
    "callbacks = [\n",
    "    get_model_checkpoint_callback(\n",
    "        filepath=\"checkpoint\",\n",
    "        save_best_only=experiment_configs.training_configs.save_best_checkpoint_only,\n",
    "        using_wandb=True\n",
    "    )\n",
    "]\n",
    "callbacks.append(WandbMetricsLogger(log_freq=\"batch\"))"
   ]
  },
  {
   "cell_type": "code",
   "execution_count": null,
   "metadata": {},
   "outputs": [],
   "source": [
    "model.fit(\n",
    "    train_dataset,\n",
    "    validation_data=val_dataset,\n",
    "    epochs=experiment_configs.training_configs.epochs,\n",
    "    callbacks=callbacks,\n",
    ")"
   ]
  },
  {
   "cell_type": "code",
   "execution_count": null,
   "metadata": {},
   "outputs": [],
   "source": [
    "wandb.finish()"
   ]
  }
 ],
 "metadata": {
  "environment": {
   "kernel": "python3",
   "name": "tf2-gpu.2-11.m102",
   "type": "gcloud",
   "uri": "gcr.io/deeplearning-platform-release/tf2-gpu.2-11:m102"
  },
  "kernelspec": {
   "display_name": "Python 3",
   "language": "python",
   "name": "python3"
  },
  "language_info": {
   "codemirror_mode": {
    "name": "ipython",
    "version": 3
   },
   "file_extension": ".py",
   "mimetype": "text/x-python",
   "name": "python",
   "nbconvert_exporter": "python",
   "pygments_lexer": "ipython3",
   "version": "3.8.16 (default, Jan 10 2023, 15:23:34) \n[GCC 9.4.0]"
  },
  "vscode": {
   "interpreter": {
    "hash": "6823027d7e29b41a4e6f28161e95b4dfbe0e8b9a6a7278f50ef7cf75c6459dbe"
   }
  }
 },
 "nbformat": 4,
 "nbformat_minor": 4
}
