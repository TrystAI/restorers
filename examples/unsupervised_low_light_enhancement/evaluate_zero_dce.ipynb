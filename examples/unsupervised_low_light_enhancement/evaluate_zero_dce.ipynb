{
 "cells": [
  {
   "cell_type": "code",
   "execution_count": null,
   "id": "1404fd8b-9845-462f-b4fc-92217360383b",
   "metadata": {},
   "outputs": [],
   "source": [
    "import wandb\n",
    "\n",
    "from low_light_config import get_config\n",
    "from restorers.evaluation import LoLEvaluator\n",
    "from restorers.metrics import PSNRMetric, SSIMMetric"
   ]
  },
  {
   "cell_type": "code",
   "execution_count": null,
   "id": "ce04cc65-f500-4423-8d5e-f0b27e44fc8a",
   "metadata": {},
   "outputs": [],
   "source": [
    "wandb_project_name = 'zero-dce' #@param {type:\"string\"}\n",
    "wandb_entity_name = 'ml-colabs' #@param {type:\"string\"}\n",
    "wandb_job_type = 'evaluation' #@param {type:\"string\"}\n",
    "model_artifact_address = \"ml-colabs/zero-dce/run_gu7a7tlx_model:v99\" #@param {type:\"string\"}\n",
    "\n",
    "experiment_configs = get_config()\n",
    "wandb.init(\n",
    "    project=wandb_project_name,\n",
    "    entity=wandb_entity_name,\n",
    "    job_type=wandb_job_type,\n",
    "    config=experiment_configs.to_dict(),\n",
    ")\n",
    "\n",
    "config = wandb.config"
   ]
  },
  {
   "cell_type": "code",
   "execution_count": null,
   "id": "a7ac7309",
   "metadata": {},
   "outputs": [],
   "source": [
    "evaluator = LoLEvaluator(\n",
    "    metrics={\n",
    "        \"Peak-Singal-Noise-Ratio\": PSNRMetric(max_val=1.0),\n",
    "        \"Structural-Similarity\": SSIMMetric(max_val=1.0),\n",
    "    }\n",
    ")\n",
    "evaluator.initialize_model_from_wandb_artifact(\n",
    "    artifact_address=model_artifact_address\n",
    ")\n",
    "evaluator.evaluate()"
   ]
  },
  {
   "cell_type": "code",
   "execution_count": null,
   "id": "67274c60",
   "metadata": {},
   "outputs": [],
   "source": [
    "wandb.finish()"
   ]
  }
 ],
 "metadata": {
  "environment": {
   "kernel": "python3",
   "name": "tf2-gpu.2-11.m102",
   "type": "gcloud",
   "uri": "gcr.io/deeplearning-platform-release/tf2-gpu.2-11:m102"
  },
  "kernelspec": {
   "display_name": "base",
   "language": "python",
   "name": "python3"
  },
  "language_info": {
   "codemirror_mode": {
    "name": "ipython",
    "version": 3
   },
   "file_extension": ".py",
   "mimetype": "text/x-python",
   "name": "python",
   "nbconvert_exporter": "python",
   "pygments_lexer": "ipython3",
   "version": "3.7.12"
  },
  "vscode": {
   "interpreter": {
    "hash": "d4d1e4263499bec80672ea0156c357c1ee493ec2b1c70f0acce89fc37c4a6abe"
   }
  }
 },
 "nbformat": 4,
 "nbformat_minor": 5
}
