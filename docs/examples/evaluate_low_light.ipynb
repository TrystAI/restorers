{
 "cells": [
  {
   "cell_type": "markdown",
   "metadata": {},
   "source": [
    "<a href=\"https://colab.research.google.com/github/wandb/examples/blob/master/colabs/keras/restorers/Evaluation_low_light.ipynb\" target=\"_parent\"><img src=\"https://colab.research.google.com/assets/colab-badge.svg\" alt=\"Open In Colab\"/></a>\n",
    "<!--- @wandbcode{restorers-evaluation} -->"
   ]
  },
  {
   "attachments": {},
   "cell_type": "markdown",
   "metadata": {},
   "source": [
    "# 🌈 Restorers + WandB 🪄🐝\n",
    "\n",
    "<!--- @wandbcode{restorers-mirnetv2-train} -->\n",
    "\n",
    "This notebook shows how to perform inference with a low-light enhancement using [**restorers**](https://github.com/soumik12345/restorers) and [**wandb**](https://wandb.ai/site). For more details regarding usage of restorers, refer to the following report:\n",
    "\n",
    "[![](https://raw.githubusercontent.com/wandb/assets/main/wandb-github-badge-gradient.svg)](https://wandb.ai/ml-colabs/low-light-enhancement/reports/Lighting-up-Images-in-the-Deep-Learning-Era--VmlldzozNzE4Njkz)"
   ]
  },
  {
   "cell_type": "code",
   "execution_count": null,
   "metadata": {},
   "outputs": [],
   "source": [
    "!pip install -q --upgrade pip setuptools\n",
    "!pip install git+https://github.com/soumik12345/restorers.git"
   ]
  },
  {
   "cell_type": "code",
   "execution_count": null,
   "metadata": {},
   "outputs": [],
   "source": [
    "import wandb\n",
    "from restorers.evaluation import LoLEvaluator\n",
    "from restorers.metrics import PSNRMetric, SSIMMetric"
   ]
  },
  {
   "cell_type": "code",
   "execution_count": null,
   "metadata": {},
   "outputs": [],
   "source": [
    "# initialize a wandb run for inference\n",
    "wandb.init(project=\"low-light-enhancement\", job_type=\"evaluation\")"
   ]
  },
  {
   "cell_type": "code",
   "execution_count": null,
   "metadata": {},
   "outputs": [],
   "source": [
    "# Define the Evaluator for LoL dataset\n",
    "evaluator = LoLEvaluator(\n",
    "    # pass the list of Keras metrics to be evaluated for\n",
    "    metrics=[PSNRMetric(max_val=1.0), SSIMMetric(max_val=1.0)],\n",
    "    # pass the wandb artifact for the LoL dataset\n",
    "    dataset_artifact_address=\"ml-colabs/dataset/LoL:v0\",\n",
    "    input_size=256,\n",
    ")\n",
    "# initialize model from wandb artifacts\n",
    "evaluator.initialize_model_from_wandb_artifact(\"artifact-address-of-your-model-checkpoint\")\n",
    "# evaluate\n",
    "evaluator.evaluate()\n"
   ]
  },
  {
   "cell_type": "code",
   "execution_count": null,
   "metadata": {},
   "outputs": [],
   "source": [
    "wandb.finish()"
   ]
  }
 ],
 "metadata": {
  "accelerator": "GPU",
  "colab": {
   "include_colab_link": true,
   "provenance": [],
   "toc_visible": true
  },
  "kernelspec": {
   "display_name": "Python 3",
   "name": "python3"
  }
 },
 "nbformat": 4,
 "nbformat_minor": 0
}
